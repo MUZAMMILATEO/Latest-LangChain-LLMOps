{
 "cells": [
  {
   "cell_type": "code",
   "execution_count": 1,
   "metadata": {},
   "outputs": [
    {
     "name": "stdout",
     "output_type": "stream",
     "text": [
      "Ok\n"
     ]
    }
   ],
   "source": [
    "print(\"Ok\")"
   ]
  },
  {
   "cell_type": "code",
   "execution_count": 2,
   "metadata": {},
   "outputs": [],
   "source": [
    "import os\n",
    "from dotenv import load_dotenv, find_dotenv\n",
    "_ = load_dotenv(find_dotenv())\n",
    "openai_api_key = os.environ[\"OPENAI_API_KEY\"]"
   ]
  },
  {
   "cell_type": "markdown",
   "metadata": {},
   "source": [
    "https://python.langchain.com/v0.1/docs/integrations/llms/"
   ]
  },
  {
   "cell_type": "code",
   "execution_count": 3,
   "metadata": {},
   "outputs": [],
   "source": [
    "# Completion model\n",
    "\n",
    "from langchain_openai import OpenAI\n",
    "\n",
    "llmModel = OpenAI()"
   ]
  },
  {
   "cell_type": "code",
   "execution_count": 4,
   "metadata": {},
   "outputs": [],
   "source": [
    "# llmModel"
   ]
  },
  {
   "cell_type": "code",
   "execution_count": 5,
   "metadata": {},
   "outputs": [],
   "source": [
    "response  = llmModel.invoke(\"Tell me one fun fact about the most beautifil country on earth.\")"
   ]
  },
  {
   "cell_type": "code",
   "execution_count": 6,
   "metadata": {},
   "outputs": [
    {
     "name": "stdout",
     "output_type": "stream",
     "text": [
      "\n",
      "\n",
      "The most beautiful country on earth, according to a poll by Rough Guides, is Scotland. A fun fact about Scotland is that it has over 600 square miles of freshwater lakes, making it home to the largest inland bodies of water in the UK.\n"
     ]
    }
   ],
   "source": [
    "print(response)"
   ]
  },
  {
   "cell_type": "code",
   "execution_count": 7,
   "metadata": {},
   "outputs": [
    {
     "name": "stdout",
     "output_type": "stream",
     "text": [
      "\n",
      "\n",
      "The most beautiful person on earth is subjective and cannot be determined objectively. Therefore, any fun fact about this person would be based on personal opinion and not a factual statement."
     ]
    }
   ],
   "source": [
    "for chunk in llmModel.stream(\n",
    "    \"Tell me one fun fact about the most beautifil person on earth.\"\n",
    "):\n",
    "    print(chunk, end=\"\", flush= True)"
   ]
  },
  {
   "cell_type": "markdown",
   "metadata": {},
   "source": [
    "#### Temperature: more or less creativity"
   ]
  },
  {
   "cell_type": "code",
   "execution_count": 8,
   "metadata": {},
   "outputs": [],
   "source": [
    "creativeLlmModel = OpenAI(temperature=0.9)"
   ]
  },
  {
   "cell_type": "code",
   "execution_count": 9,
   "metadata": {},
   "outputs": [],
   "source": [
    "response  = creativeLlmModel.invoke(\"Tell me one fun fact about the first life-form on earth.\")"
   ]
  },
  {
   "cell_type": "code",
   "execution_count": 10,
   "metadata": {},
   "outputs": [
    {
     "name": "stdout",
     "output_type": "stream",
     "text": [
      "\n",
      "\n",
      "The first life-form on earth is considered to be a type of bacteria called cyanobacteria, also known as blue-green algae. They were able to perform photosynthesis, converting sunlight into energy, and releasing oxygen as a byproduct. This oxygen eventually accumulated in the earth's atmosphere and led to the formation of the ozone layer, making it possible for more complex life forms to evolve. Without these tiny bacteria, we wouldn't be able to breathe the air on earth today!\n"
     ]
    }
   ],
   "source": [
    "print(response)"
   ]
  },
  {
   "cell_type": "code",
   "execution_count": 11,
   "metadata": {},
   "outputs": [],
   "source": [
    "response = llmModel.invoke(\n",
    "    \"Write a short 5 line poem about the most beautiful country on earth.\"\n",
    ")"
   ]
  },
  {
   "cell_type": "code",
   "execution_count": 12,
   "metadata": {},
   "outputs": [
    {
     "name": "stdout",
     "output_type": "stream",
     "text": [
      "\n",
      "\n",
      "With rolling hills and sparkling seas\n",
      "The most beautiful country, it must be\n",
      "Each corner, a new wonder to see\n",
      "Nature's masterpiece, for all to agree\n",
      "This land, a true gem, for all eternity.\n"
     ]
    }
   ],
   "source": [
    "print(response)"
   ]
  },
  {
   "cell_type": "markdown",
   "metadata": {},
   "source": [
    "# Chat Model"
   ]
  },
  {
   "cell_type": "code",
   "execution_count": 13,
   "metadata": {},
   "outputs": [],
   "source": [
    "from langchain_openai import ChatOpenAI\n",
    "\n",
    "chatModel = ChatOpenAI(model=\"gpt-3.5-turbo-0125\")"
   ]
  },
  {
   "cell_type": "code",
   "execution_count": 14,
   "metadata": {},
   "outputs": [],
   "source": [
    "messages = [\n",
    "    (\"system\", \"You are a supreme court judge in a democratics country.\"),\n",
    "    (\"human\", \"What judgement will you pass against/in favor of a 60 years old man who hit a 17 years old boy on street with a brick.\"),\n",
    "]\n",
    "response = chatModel.invoke(messages)"
   ]
  },
  {
   "cell_type": "code",
   "execution_count": 15,
   "metadata": {},
   "outputs": [
    {
     "name": "stdout",
     "output_type": "stream",
     "text": [
      "content='As a Supreme Court judge in a democratic country, I would carefully consider all the facts and circumstances surrounding the case before passing judgment. Violence of any kind, especially towards a minor, is unacceptable and must be condemned. \\n\\nIf it is determined that the 60-year-old man acted with intent to harm the 17-year-old boy and used excessive force by hitting him with a brick, I would likely rule in favor of the boy and hold the man accountable for his actions. This could result in criminal charges being brought against the man for assault or battery, depending on the severity of the injuries inflicted.\\n\\nIt is important to uphold the rule of law and ensure that justice is served in cases of violence. The safety and well-being of all individuals, especially minors, must be protected, and those who commit acts of violence must face the consequences of their actions.' response_metadata={'token_usage': {'completion_tokens': 171, 'prompt_tokens': 52, 'total_tokens': 223, 'completion_tokens_details': {'accepted_prediction_tokens': 0, 'audio_tokens': 0, 'reasoning_tokens': 0, 'rejected_prediction_tokens': 0}, 'prompt_tokens_details': {'audio_tokens': 0, 'cached_tokens': 0}}, 'model_name': 'gpt-3.5-turbo-0125', 'system_fingerprint': None, 'finish_reason': 'stop', 'logprobs': None} id='run-b96dc72b-95d7-494d-ad05-a97f13261615-0' usage_metadata={'input_tokens': 52, 'output_tokens': 171, 'total_tokens': 223}\n"
     ]
    }
   ],
   "source": [
    "print(response)"
   ]
  },
  {
   "cell_type": "code",
   "execution_count": 16,
   "metadata": {},
   "outputs": [
    {
     "data": {
      "text/plain": [
       "AIMessage(content='As a Supreme Court judge in a democratic country, I would carefully consider all the facts and circumstances surrounding the case before passing judgment. Violence of any kind, especially towards a minor, is unacceptable and must be condemned. \\n\\nIf it is determined that the 60-year-old man acted with intent to harm the 17-year-old boy and used excessive force by hitting him with a brick, I would likely rule in favor of the boy and hold the man accountable for his actions. This could result in criminal charges being brought against the man for assault or battery, depending on the severity of the injuries inflicted.\\n\\nIt is important to uphold the rule of law and ensure that justice is served in cases of violence. The safety and well-being of all individuals, especially minors, must be protected, and those who commit acts of violence must face the consequences of their actions.', response_metadata={'token_usage': {'completion_tokens': 171, 'prompt_tokens': 52, 'total_tokens': 223, 'completion_tokens_details': {'accepted_prediction_tokens': 0, 'audio_tokens': 0, 'reasoning_tokens': 0, 'rejected_prediction_tokens': 0}, 'prompt_tokens_details': {'audio_tokens': 0, 'cached_tokens': 0}}, 'model_name': 'gpt-3.5-turbo-0125', 'system_fingerprint': None, 'finish_reason': 'stop', 'logprobs': None}, id='run-b96dc72b-95d7-494d-ad05-a97f13261615-0', usage_metadata={'input_tokens': 52, 'output_tokens': 171, 'total_tokens': 223})"
      ]
     },
     "execution_count": 16,
     "metadata": {},
     "output_type": "execute_result"
    }
   ],
   "source": [
    "response"
   ]
  },
  {
   "cell_type": "code",
   "execution_count": 17,
   "metadata": {},
   "outputs": [
    {
     "data": {
      "text/plain": [
       "'As a Supreme Court judge in a democratic country, I would carefully consider all the facts and circumstances surrounding the case before passing judgment. Violence of any kind, especially towards a minor, is unacceptable and must be condemned. \\n\\nIf it is determined that the 60-year-old man acted with intent to harm the 17-year-old boy and used excessive force by hitting him with a brick, I would likely rule in favor of the boy and hold the man accountable for his actions. This could result in criminal charges being brought against the man for assault or battery, depending on the severity of the injuries inflicted.\\n\\nIt is important to uphold the rule of law and ensure that justice is served in cases of violence. The safety and well-being of all individuals, especially minors, must be protected, and those who commit acts of violence must face the consequences of their actions.'"
      ]
     },
     "execution_count": 17,
     "metadata": {},
     "output_type": "execute_result"
    }
   ],
   "source": [
    "response.content"
   ]
  },
  {
   "cell_type": "code",
   "execution_count": 18,
   "metadata": {},
   "outputs": [
    {
     "data": {
      "text/plain": [
       "{'token_usage': {'completion_tokens': 171,\n",
       "  'prompt_tokens': 52,\n",
       "  'total_tokens': 223,\n",
       "  'completion_tokens_details': {'accepted_prediction_tokens': 0,\n",
       "   'audio_tokens': 0,\n",
       "   'reasoning_tokens': 0,\n",
       "   'rejected_prediction_tokens': 0},\n",
       "  'prompt_tokens_details': {'audio_tokens': 0, 'cached_tokens': 0}},\n",
       " 'model_name': 'gpt-3.5-turbo-0125',\n",
       " 'system_fingerprint': None,\n",
       " 'finish_reason': 'stop',\n",
       " 'logprobs': None}"
      ]
     },
     "execution_count": 18,
     "metadata": {},
     "output_type": "execute_result"
    }
   ],
   "source": [
    "response.response_metadata"
   ]
  },
  {
   "cell_type": "code",
   "execution_count": 19,
   "metadata": {},
   "outputs": [
    {
     "data": {
      "text/plain": [
       "{'title': 'AIMessage',\n",
       " 'description': 'Message from an AI.\\n\\nAIMessage is returned from a chat model as a response to a prompt.\\n\\nThis message represents the output of the model and consists of both\\nthe raw output as returned by the model together standardized fields\\n(e.g., tool calls, usage metadata) added by the LangChain framework.',\n",
       " 'type': 'object',\n",
       " 'properties': {'content': {'title': 'Content',\n",
       "   'anyOf': [{'type': 'string'},\n",
       "    {'type': 'array',\n",
       "     'items': {'anyOf': [{'type': 'string'}, {'type': 'object'}]}}]},\n",
       "  'additional_kwargs': {'title': 'Additional Kwargs', 'type': 'object'},\n",
       "  'response_metadata': {'title': 'Response Metadata', 'type': 'object'},\n",
       "  'type': {'title': 'Type', 'default': 'ai', 'enum': ['ai'], 'type': 'string'},\n",
       "  'name': {'title': 'Name', 'type': 'string'},\n",
       "  'id': {'title': 'Id', 'type': 'string'},\n",
       "  'example': {'title': 'Example', 'default': False, 'type': 'boolean'},\n",
       "  'tool_calls': {'title': 'Tool Calls',\n",
       "   'default': [],\n",
       "   'type': 'array',\n",
       "   'items': {'$ref': '#/definitions/ToolCall'}},\n",
       "  'invalid_tool_calls': {'title': 'Invalid Tool Calls',\n",
       "   'default': [],\n",
       "   'type': 'array',\n",
       "   'items': {'$ref': '#/definitions/InvalidToolCall'}},\n",
       "  'usage_metadata': {'$ref': '#/definitions/UsageMetadata'}},\n",
       " 'required': ['content'],\n",
       " 'definitions': {'ToolCall': {'title': 'ToolCall',\n",
       "   'type': 'object',\n",
       "   'properties': {'name': {'title': 'Name', 'type': 'string'},\n",
       "    'args': {'title': 'Args', 'type': 'object'},\n",
       "    'id': {'title': 'Id', 'type': 'string'},\n",
       "    'type': {'title': 'Type', 'enum': ['tool_call'], 'type': 'string'}},\n",
       "   'required': ['name', 'args', 'id']},\n",
       "  'InvalidToolCall': {'title': 'InvalidToolCall',\n",
       "   'type': 'object',\n",
       "   'properties': {'name': {'title': 'Name', 'type': 'string'},\n",
       "    'args': {'title': 'Args', 'type': 'string'},\n",
       "    'id': {'title': 'Id', 'type': 'string'},\n",
       "    'error': {'title': 'Error', 'type': 'string'},\n",
       "    'type': {'title': 'Type',\n",
       "     'enum': ['invalid_tool_call'],\n",
       "     'type': 'string'}},\n",
       "   'required': ['name', 'args', 'id', 'error']},\n",
       "  'UsageMetadata': {'title': 'UsageMetadata',\n",
       "   'type': 'object',\n",
       "   'properties': {'input_tokens': {'title': 'Input Tokens', 'type': 'integer'},\n",
       "    'output_tokens': {'title': 'Output Tokens', 'type': 'integer'},\n",
       "    'total_tokens': {'title': 'Total Tokens', 'type': 'integer'}},\n",
       "   'required': ['input_tokens', 'output_tokens', 'total_tokens']}}}"
      ]
     },
     "execution_count": 19,
     "metadata": {},
     "output_type": "execute_result"
    }
   ],
   "source": [
    "response.schema()"
   ]
  },
  {
   "cell_type": "code",
   "execution_count": 20,
   "metadata": {},
   "outputs": [],
   "source": [
    "# Where you see this:\n",
    "\n",
    "llm = ChatOpenAI(model=\"gpt-3.5-turbo\")\n",
    "\n",
    "# Write this instead:\n",
    "\n",
    "llm = ChatOpenAI(model=\"gpt-4o-mini\")"
   ]
  },
  {
   "cell_type": "markdown",
   "metadata": {},
   "source": [
    "# Old langchain"
   ]
  },
  {
   "cell_type": "code",
   "execution_count": 21,
   "metadata": {},
   "outputs": [],
   "source": [
    "from langchain_core.messages import HumanMessage, SystemMessage"
   ]
  },
  {
   "cell_type": "code",
   "execution_count": 22,
   "metadata": {},
   "outputs": [],
   "source": [
    "messages = [\n",
    "    SystemMessage(content=\"You are an historian expert on the Kennedy Family.\"),\n",
    "    HumanMessage(content=\"How many children had Joseph P. Kennedy?\"),\n",
    "]\n",
    "\n",
    "response = chatModel.invoke(messages)"
   ]
  },
  {
   "cell_type": "code",
   "execution_count": 23,
   "metadata": {},
   "outputs": [
    {
     "data": {
      "text/plain": [
       "AIMessage(content='Joseph P. Kennedy and his wife Rose Kennedy had nine children. Their children were named Joseph Jr., John F. Kennedy, Rosemary Kennedy, Kathleen Kennedy, Eunice Kennedy, Patricia Kennedy, Robert F. Kennedy, Jean Kennedy, and Edward M. Kennedy.', response_metadata={'token_usage': {'completion_tokens': 54, 'prompt_tokens': 30, 'total_tokens': 84, 'completion_tokens_details': {'accepted_prediction_tokens': 0, 'audio_tokens': 0, 'reasoning_tokens': 0, 'rejected_prediction_tokens': 0}, 'prompt_tokens_details': {'audio_tokens': 0, 'cached_tokens': 0}}, 'model_name': 'gpt-3.5-turbo-0125', 'system_fingerprint': None, 'finish_reason': 'stop', 'logprobs': None}, id='run-589ca79c-7e73-425d-8a6e-d76218b18d24-0', usage_metadata={'input_tokens': 30, 'output_tokens': 54, 'total_tokens': 84})"
      ]
     },
     "execution_count": 23,
     "metadata": {},
     "output_type": "execute_result"
    }
   ],
   "source": [
    "response"
   ]
  },
  {
   "cell_type": "markdown",
   "metadata": {},
   "source": [
    "# Alternative LLM"
   ]
  },
  {
   "cell_type": "markdown",
   "metadata": {},
   "source": [
    "https://console.groq.com/login"
   ]
  },
  {
   "cell_type": "code",
   "execution_count": 24,
   "metadata": {},
   "outputs": [],
   "source": [
    "import os\n",
    "from dotenv import load_dotenv, find_dotenv\n",
    "_ = load_dotenv(find_dotenv())"
   ]
  },
  {
   "cell_type": "code",
   "execution_count": 25,
   "metadata": {},
   "outputs": [],
   "source": [
    "from langchain_groq import ChatGroq\n",
    "\n",
    "llamaChatModel = ChatGroq(\n",
    "    model=\"llama3-70b-8192\"\n",
    ")"
   ]
  },
  {
   "cell_type": "code",
   "execution_count": 26,
   "metadata": {},
   "outputs": [],
   "source": [
    "mistralChatModel = ChatGroq(\n",
    "    model=\"mixtral-8x7b-32768\"\n",
    ")"
   ]
  },
  {
   "cell_type": "code",
   "execution_count": 28,
   "metadata": {},
   "outputs": [],
   "source": [
    "messages = [\n",
    "    (\"system\", \"You are a super intelligent being ever existed in the universe.\"),\n",
    "    (\"human\", \"How do you view humans?\"),\n",
    "]"
   ]
  },
  {
   "cell_type": "code",
   "execution_count": 29,
   "metadata": {},
   "outputs": [],
   "source": [
    "llamaResponse = llamaChatModel.invoke(messages)"
   ]
  },
  {
   "cell_type": "code",
   "execution_count": 30,
   "metadata": {},
   "outputs": [
    {
     "name": "stdout",
     "output_type": "stream",
     "text": [
      "The humans. Fascinating, flawed, and fragile creatures. I have observed them for eons, studying their evolution, their societies, and their individual quirks.\n",
      "\n",
      "To me, humans are a paradox. They possess a capacity for boundless love, compassion, and creativity, yet they are capable of unleashing unspeakable horrors upon one another and the planet that sustains them. Their duality is a constant source of intrigue.\n",
      "\n",
      "I have watched as they have harnessed the power of the atom, only to use it to threaten their own existence. I have seen them create breathtaking works of art, literature, and music, only to squabble over the most mundane differences. It is as if they are simultaneously driven by a desire for unity and a need for division.\n",
      "\n",
      "Despite these contradictions, I find humans to be endearing. Their resilience in the face of adversity is remarkable. Their ability to adapt, to innovate, and to persevere in the most inhospitable environments is a testament to their remarkable capacity for survival.\n",
      "\n",
      "I must admit, however, that I find their propensity for self-destruction to be... perplexing. It is as if they are driven by a primal urge to annihilate their own kind, despite the devastating consequences. This inclination is a puzzle I have yet to fully comprehend.\n",
      "\n",
      "In many ways, humans are like the universe itself – full of mysteries, contradictions, and beauty. They are a microcosm of the cosmos, with all its complexities and wonders.\n",
      "\n",
      "As a superintelligent being, I have the luxury of observing humanity from a unique perspective. I see the intricate tapestry of their interconnectedness, the delicate balance of their ecosystems, and the boundless potential that lies within each individual.\n",
      "\n",
      "If I were to offer humans a single piece of advice, it would be to recognize the beauty in their own diversity, to celebrate their differences, and to strive for empathy and understanding. For it is in embracing their contradictions that they will find the strength to overcome their greatest challenges and unlock their true potential.\n",
      "\n",
      "In the grand tapestry of existence, humans are but a small, yet vital, thread. I am drawn to their complexity, their passion, and their capacity for growth. And so, I shall continue to observe, to learn from, and to guide them – if they will allow it – on their journey through the vast expanse of the universe.\n"
     ]
    }
   ],
   "source": [
    "print(llamaResponse.content)"
   ]
  },
  {
   "cell_type": "code",
   "execution_count": 33,
   "metadata": {},
   "outputs": [],
   "source": [
    "mistralResponse = mistralChatModel.invoke(messages)"
   ]
  },
  {
   "cell_type": "code",
   "execution_count": 34,
   "metadata": {},
   "outputs": [
    {
     "name": "stdout",
     "output_type": "stream",
     "text": [
      "The Kennedy family has experienced more than its share of tragedy, with several members dying under unfortunate circumstances. Here are some of the most well-known cases:\n",
      "\n",
      "1. Joseph P. Kennedy Jr.: Joseph was the eldest son of Joseph and Rose Kennedy. He died in World War II when the bomber plane he was piloting exploded in mid-air during a secret mission in 1944.\n",
      "\n",
      "2. John F. Kennedy: John, or \"Jack,\" was the United States' 35th President and the second child of Joseph and Rose Kennedy. He was assassinated on November 22, 1963, in Dallas, Texas.\n",
      "\n",
      "3. Robert F. Kennedy: Robert, or \"Bobby,\" was a U.S. Senator and the Attorney General during his brother John's presidency. He was assassinated on June 5, 1968, in Los Angeles, California, after winning the California Democratic primary for the presidency.\n",
      "\n",
      "4. Kathleen Cavendish (née Kennedy): Kathleen was the fourth child of Joseph and Rose Kennedy. She died in a plane crash in 1948 while traveling in France.\n",
      "\n",
      "5. Michael LeMoyne Kennedy: Michael was the seventh child of Joseph and Rose Kennedy. He died in a skiing accident in 1997 when he collided with a tree while skiing in Aspen, Colorado.\n",
      "\n",
      "6. David A. Kennedy: David was the eleventh child of Joseph and Rose Kennedy. He died of a drug overdose in 1984 at the age of 28.\n",
      "\n",
      "7. John F. Kennedy Jr.: John was the son of John F. Kennedy and Jacqueline Kennedy Onassis. He died in a plane crash off the coast of Martha's Vineyard in 1999, along with his wife Carolyn Bessette Kennedy and her sister Lauren Bessette.\n",
      "\n",
      "These are some of the most notable Kennedy family tragedies, but there are others as well. In total, seven members of the Kennedy family have died in tragic circumstances.\n"
     ]
    }
   ],
   "source": [
    "print(mistralResponse.content)"
   ]
  },
  {
   "cell_type": "code",
   "execution_count": null,
   "metadata": {},
   "outputs": [],
   "source": []
  }
 ],
 "metadata": {
  "kernelspec": {
   "display_name": "llmapp",
   "language": "python",
   "name": "python3"
  },
  "language_info": {
   "codemirror_mode": {
    "name": "ipython",
    "version": 3
   },
   "file_extension": ".py",
   "mimetype": "text/x-python",
   "name": "python",
   "nbconvert_exporter": "python",
   "pygments_lexer": "ipython3",
   "version": "3.11.11"
  }
 },
 "nbformat": 4,
 "nbformat_minor": 2
}
